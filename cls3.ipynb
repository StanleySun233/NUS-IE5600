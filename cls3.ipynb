{
 "cells": [
  {
   "metadata": {},
   "cell_type": "markdown",
   "source": [
    "Main Goal:\n",
    "1. Basic IO Stream\n",
    "- print\n",
    "- input\n",
    "2. Conditional Control Flow\n",
    "- if-else"
   ],
   "id": "717ad1117e205124"
  },
  {
   "metadata": {
    "ExecuteTime": {
     "end_time": "2024-08-27T12:10:19.784308Z",
     "start_time": "2024-08-27T12:10:19.768310Z"
    }
   },
   "cell_type": "code",
   "source": [
    "num = 3\n",
    "print(\"num\", num)\n",
    "print('num', num)\n",
    "print(\"num\", num, sep='=', end='.\\n')\n",
    "print(\"num\", num, num, sep='=',end=' ')\n",
    "print(num)"
   ],
   "id": "527a0133504b997d",
   "outputs": [
    {
     "name": "stdout",
     "output_type": "stream",
     "text": [
      "num 3\n",
      "num 3\n",
      "num=3.\n",
      "num=3=3 3\n"
     ]
    }
   ],
   "execution_count": 1
  },
  {
   "metadata": {
    "ExecuteTime": {
     "end_time": "2024-08-27T12:14:39.811891Z",
     "start_time": "2024-08-27T12:14:39.797894Z"
    }
   },
   "cell_type": "code",
   "source": [
    "num1 = 3\n",
    "num2 = 4\n",
    "print(\"num 1 =\", num1, 'and', \"num 2 =\", num2)"
   ],
   "id": "9b4eec447fc54ee5",
   "outputs": [
    {
     "name": "stdout",
     "output_type": "stream",
     "text": [
      "num 1 = 3 and num 2 = 4\n"
     ]
    }
   ],
   "execution_count": 2
  },
  {
   "metadata": {
    "ExecuteTime": {
     "end_time": "2024-08-27T12:17:42.446792Z",
     "start_time": "2024-08-27T12:17:42.439794Z"
    }
   },
   "cell_type": "code",
   "source": [
    "day = 25\n",
    "month = 8\n",
    "year = 2024\n",
    "print(day,month,year,sep='/')"
   ],
   "id": "272570f86b506716",
   "outputs": [
    {
     "name": "stdout",
     "output_type": "stream",
     "text": [
      "25/8/2024\n"
     ]
    }
   ],
   "execution_count": 4
  },
  {
   "metadata": {
    "ExecuteTime": {
     "end_time": "2024-08-27T12:27:49.609894Z",
     "start_time": "2024-08-27T12:27:49.594262Z"
    }
   },
   "cell_type": "code",
   "source": [
    "day = 25\n",
    "month = 8\n",
    "year = 2024\n",
    "print(\"Today is\",end=' ')\n",
    "print(day,month,year,sep='/')"
   ],
   "id": "f92a4af6559b3ae1",
   "outputs": [
    {
     "name": "stdout",
     "output_type": "stream",
     "text": [
      "Today is 25/8/2024\n"
     ]
    }
   ],
   "execution_count": 5
  },
  {
   "metadata": {
    "ExecuteTime": {
     "end_time": "2024-08-27T12:30:14.019484Z",
     "start_time": "2024-08-27T12:30:13.986995Z"
    }
   },
   "cell_type": "code",
   "source": [
    "print(\"Learning Python is \\\"fun\\\"\")\n",
    "print('Learning Python is \"fun\"')"
   ],
   "id": "88da63cf6251ba20",
   "outputs": [
    {
     "name": "stdout",
     "output_type": "stream",
     "text": [
      "Learning Python is \"fun\"\n",
      "Learning Python is \"fun\"\n"
     ]
    }
   ],
   "execution_count": 6
  },
  {
   "metadata": {
    "ExecuteTime": {
     "end_time": "2024-08-27T12:32:44.517986Z",
     "start_time": "2024-08-27T12:32:44.506500Z"
    }
   },
   "cell_type": "code",
   "source": "print('{} is the weight of {} apples'.format('Hello Kitty', 3))",
   "id": "6bf095238224081a",
   "outputs": [
    {
     "name": "stdout",
     "output_type": "stream",
     "text": [
      "Hello Kitty is the weight of 3 apples\n"
     ]
    }
   ],
   "execution_count": 7
  },
  {
   "metadata": {
    "ExecuteTime": {
     "end_time": "2024-08-27T12:35:07.222515Z",
     "start_time": "2024-08-27T12:35:06.057194Z"
    }
   },
   "cell_type": "code",
   "source": [
    "print('First: {0}, Second: {1}, Third: {2}' .format(1,2,3))\n",
    "print('First: {1}, Second: {0}, Third: {2}' .format(1,2,3))\t\n",
    "print('First: {1}, Second: {2}, Third: {3}' .format(1,2,3))"
   ],
   "id": "809129725c1fca31",
   "outputs": [
    {
     "name": "stdout",
     "output_type": "stream",
     "text": [
      "First: 1, Second: 2, Third: 3\n",
      "First: 2, Second: 1, Third: 3\n"
     ]
    },
    {
     "ename": "IndexError",
     "evalue": "Replacement index 3 out of range for positional args tuple",
     "output_type": "error",
     "traceback": [
      "\u001B[1;31m---------------------------------------------------------------------------\u001B[0m",
      "\u001B[1;31mIndexError\u001B[0m                                Traceback (most recent call last)",
      "Cell \u001B[1;32mIn[8], line 3\u001B[0m\n\u001B[0;32m      1\u001B[0m \u001B[38;5;28mprint\u001B[39m(\u001B[38;5;124m'\u001B[39m\u001B[38;5;124mFirst: \u001B[39m\u001B[38;5;132;01m{0}\u001B[39;00m\u001B[38;5;124m, Second: \u001B[39m\u001B[38;5;132;01m{1}\u001B[39;00m\u001B[38;5;124m, Third: \u001B[39m\u001B[38;5;132;01m{2}\u001B[39;00m\u001B[38;5;124m'\u001B[39m \u001B[38;5;241m.\u001B[39mformat(\u001B[38;5;241m1\u001B[39m,\u001B[38;5;241m2\u001B[39m,\u001B[38;5;241m3\u001B[39m))\n\u001B[0;32m      2\u001B[0m \u001B[38;5;28mprint\u001B[39m(\u001B[38;5;124m'\u001B[39m\u001B[38;5;124mFirst: \u001B[39m\u001B[38;5;132;01m{1}\u001B[39;00m\u001B[38;5;124m, Second: \u001B[39m\u001B[38;5;132;01m{0}\u001B[39;00m\u001B[38;5;124m, Third: \u001B[39m\u001B[38;5;132;01m{2}\u001B[39;00m\u001B[38;5;124m'\u001B[39m \u001B[38;5;241m.\u001B[39mformat(\u001B[38;5;241m1\u001B[39m,\u001B[38;5;241m2\u001B[39m,\u001B[38;5;241m3\u001B[39m))\t\n\u001B[1;32m----> 3\u001B[0m \u001B[38;5;28mprint\u001B[39m(\u001B[38;5;124;43m'\u001B[39;49m\u001B[38;5;124;43mFirst: \u001B[39;49m\u001B[38;5;132;43;01m{1}\u001B[39;49;00m\u001B[38;5;124;43m, Second: \u001B[39;49m\u001B[38;5;132;43;01m{2}\u001B[39;49;00m\u001B[38;5;124;43m, Third: \u001B[39;49m\u001B[38;5;132;43;01m{3}\u001B[39;49;00m\u001B[38;5;124;43m'\u001B[39;49m\u001B[43m \u001B[49m\u001B[38;5;241;43m.\u001B[39;49m\u001B[43mformat\u001B[49m\u001B[43m(\u001B[49m\u001B[38;5;241;43m1\u001B[39;49m\u001B[43m,\u001B[49m\u001B[38;5;241;43m2\u001B[39;49m\u001B[43m,\u001B[49m\u001B[38;5;241;43m3\u001B[39;49m\u001B[43m)\u001B[49m)\n",
      "\u001B[1;31mIndexError\u001B[0m: Replacement index 3 out of range for positional args tuple"
     ]
    }
   ],
   "execution_count": 8
  },
  {
   "metadata": {},
   "cell_type": "code",
   "outputs": [],
   "execution_count": null,
   "source": "",
   "id": "a824734c0f437edd"
  }
 ],
 "metadata": {
  "kernelspec": {
   "display_name": "Python 3",
   "language": "python",
   "name": "python3"
  },
  "language_info": {
   "codemirror_mode": {
    "name": "ipython",
    "version": 2
   },
   "file_extension": ".py",
   "mimetype": "text/x-python",
   "name": "python",
   "nbconvert_exporter": "python",
   "pygments_lexer": "ipython2",
   "version": "2.7.6"
  }
 },
 "nbformat": 4,
 "nbformat_minor": 5
}
