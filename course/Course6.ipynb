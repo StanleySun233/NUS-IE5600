{
 "cells": [
  {
   "cell_type": "code",
   "id": "initial_id",
   "metadata": {
    "collapsed": true,
    "ExecuteTime": {
     "end_time": "2024-09-17T11:48:13.203600Z",
     "start_time": "2024-09-17T11:48:13.189031Z"
    }
   },
   "source": [
    "def addition(a,b):\n",
    "    return a+b\n",
    "\n",
    "addition(2,3)"
   ],
   "outputs": [
    {
     "name": "stdout",
     "output_type": "stream",
     "text": [
      "5\n"
     ]
    }
   ],
   "execution_count": 2
  },
  {
   "metadata": {
    "ExecuteTime": {
     "end_time": "2024-09-17T11:51:20.304048Z",
     "start_time": "2024-09-17T11:51:20.274909Z"
    }
   },
   "cell_type": "code",
   "source": [
    "def my_pet(pet_type,pet_name):\n",
    "    return \"I gave a {} named {}\".format(pet_type,pet_name)\n",
    "\n",
    "my_pet(\"cat\",\"hello kitty.\")"
   ],
   "id": "a897527bb6def09",
   "outputs": [
    {
     "name": "stdout",
     "output_type": "stream",
     "text": [
      "I gave a cat named hello kitty\n"
     ]
    }
   ],
   "execution_count": 3
  },
  {
   "metadata": {
    "ExecuteTime": {
     "end_time": "2024-09-17T11:58:50.912853Z",
     "start_time": "2024-09-17T11:58:50.883534Z"
    }
   },
   "cell_type": "code",
   "source": [
    "def print_date(name,age,gender='Male',program='Master'):\n",
    "    print(f'name={name}\\nage={age}\\ngender={gender}\\nprogram={program}')\n",
    "\n",
    "print_date('John',25,'Male')"
   ],
   "id": "ae1ce3da722fa936",
   "outputs": [
    {
     "name": "stdout",
     "output_type": "stream",
     "text": [
      "name=John\n",
      "age=25\n",
      "gender=Male\n",
      "program=Master\n"
     ]
    }
   ],
   "execution_count": 4
  },
  {
   "metadata": {
    "ExecuteTime": {
     "end_time": "2024-09-17T12:43:01.771187Z",
     "start_time": "2024-09-17T12:43:01.746322Z"
    }
   },
   "cell_type": "code",
   "source": [
    "class Student:\n",
    "    kind = 'undergraduate'\n",
    "    \n",
    "    def __init__(self,name,age):\n",
    "        self.name=name\n",
    "        self._age=age\n",
    "        \n",
    "    def __str__(self):\n",
    "        return f\"name: {self.name}, age: {self._age}\"\n",
    "    \n",
    "    def describe(self):\n",
    "        print(self.__str__())\n",
    "\n",
    "alice = Student(\"Alice\",25)\n",
    "print(alice.name, alice.kind)\n",
    "bob = Student(\"Bob\",25)\n",
    "print(bob.name,bob.kind)\n",
    "alice.kind = 'graduate'\n",
    "print(alice.name, alice.kind)\n",
    "\n",
    "alice.describe()"
   ],
   "id": "21cd166a35287de7",
   "outputs": [
    {
     "name": "stdout",
     "output_type": "stream",
     "text": [
      "Alice undergraduate\n",
      "Bob undergraduate\n",
      "Alice graduate\n",
      "name: Alice, age: 25\n"
     ]
    }
   ],
   "execution_count": 2
  },
  {
   "metadata": {},
   "cell_type": "code",
   "outputs": [],
   "execution_count": null,
   "source": [
    "class Student:\n",
    "    kind = 'undergraduate'\n",
    "    \n",
    "    def __init__(self,name,age):\n",
    "        self.name=name\n",
    "        self._age=age\n",
    "        \n",
    "    def __str__(self):\n",
    "        return f\"name: {self.name}, age: {self._age}\"\n",
    "    \n",
    "    def describe(self):\n",
    "        print(self.__str__())"
   ],
   "id": "fa48dd23e14ffacc"
  },
  {
   "metadata": {
    "ExecuteTime": {
     "end_time": "2024-09-17T12:45:37.560618Z",
     "start_time": "2024-09-17T12:45:37.552624Z"
    }
   },
   "cell_type": "code",
   "source": [
    "class Student:\n",
    " \n",
    "    kind = 'undergraduate'\n",
    "    def __init__(self, firstName, lastName, studentNumber, birthYear):\n",
    "        self.firstName = firstName\n",
    "        self.lastName = lastName\n",
    "        self.studentNumber = studentNumber\n",
    "        self.birthYear = birthYear\n",
    "    \n",
    "    def printFullName(self):\n",
    "        print(self.firstName, self.lastName)\n",
    "        \n",
    "alice = Student('Alice', 'Anderson', 'A0066789', 2002)\n",
    "alice.printFullName()"
   ],
   "id": "bdc3b2b4ef38b216",
   "outputs": [
    {
     "name": "stdout",
     "output_type": "stream",
     "text": [
      "Alice Anderson\n"
     ]
    }
   ],
   "execution_count": 3
  }
 ],
 "metadata": {
  "kernelspec": {
   "display_name": "Python 3",
   "language": "python",
   "name": "python3"
  },
  "language_info": {
   "codemirror_mode": {
    "name": "ipython",
    "version": 2
   },
   "file_extension": ".py",
   "mimetype": "text/x-python",
   "name": "python",
   "nbconvert_exporter": "python",
   "pygments_lexer": "ipython2",
   "version": "2.7.6"
  }
 },
 "nbformat": 4,
 "nbformat_minor": 5
}
