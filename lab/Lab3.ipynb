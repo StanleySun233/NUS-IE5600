{
 "cells": [
  {
   "metadata": {},
   "cell_type": "code",
   "outputs": [],
   "execution_count": null,
   "source": "from IPython import input",
   "id": "b20ded4d336e93ae"
  },
  {
   "metadata": {},
   "cell_type": "markdown",
   "source": "# Question1: Multiplication Table",
   "id": "1168a8d3aed241e9"
  },
  {
   "metadata": {
    "ExecuteTime": {
     "end_time": "2024-09-17T11:30:34.954844Z",
     "start_time": "2024-09-17T11:30:34.157148Z"
    }
   },
   "cell_type": "code",
   "outputs": [
    {
     "name": "stdout",
     "output_type": "stream",
     "text": [
      "5, 10, 15, 20, 25, 30, 35, 40, 45, 50\n"
     ]
    }
   ],
   "execution_count": 6,
   "source": [
    "from pyparsing import White\n",
    "\n",
    "# Solution by While\n",
    "\n",
    "n = int(input(\"Enter a number: \"))\n",
    "t=1\n",
    "while True:\n",
    "    if t == 10:\n",
    "        print(t * n)\n",
    "        break\n",
    "    else:\n",
    "        print(t * n,end=', ')\n",
    "    t=t+1"
   ],
   "id": "3ce8278c576b3a93"
  },
  {
   "metadata": {
    "ExecuteTime": {
     "end_time": "2024-09-17T11:31:26.851975Z",
     "start_time": "2024-09-17T11:31:25.703258Z"
    }
   },
   "cell_type": "code",
   "source": [
    "# Solution by For\n",
    "\n",
    "n = int(input(\"Enter a number: \"))\n",
    "for i in range(9):\n",
    "    print(n*(i+1),end=', ')\n",
    "print(n*10)"
   ],
   "id": "3cbef582f3e0254b",
   "outputs": [
    {
     "name": "stdout",
     "output_type": "stream",
     "text": [
      "5, 10, 15, 20, 25, 30, 35, 40, 45, 50\n"
     ]
    }
   ],
   "execution_count": 8
  },
  {
   "metadata": {},
   "cell_type": "markdown",
   "source": "# Question2: Find the Last Digit",
   "id": "2b9ffca1064e73e"
  },
  {
   "metadata": {
    "ExecuteTime": {
     "end_time": "2024-09-17T11:32:29.205625Z",
     "start_time": "2024-09-17T11:32:25.887819Z"
    }
   },
   "cell_type": "code",
   "source": [
    "n = int(input(\"Enter a number: \"))\n",
    "print(n % 10)"
   ],
   "id": "90104906cbfe25ba",
   "outputs": [
    {
     "name": "stdout",
     "output_type": "stream",
     "text": [
      "4\n"
     ]
    }
   ],
   "execution_count": 9
  },
  {
   "metadata": {},
   "cell_type": "markdown",
   "source": "# Question3: Find the First Digit",
   "id": "b935f2f84d001090"
  },
  {
   "metadata": {
    "ExecuteTime": {
     "end_time": "2024-09-17T11:33:42.489187Z",
     "start_time": "2024-09-17T11:33:40.587888Z"
    }
   },
   "cell_type": "code",
   "source": [
    "n = int(input(\"Enter a number: \"))\n",
    "while n >= 10:\n",
    "    n //=10\n",
    "print(n)"
   ],
   "id": "622a0bf7e305dca9",
   "outputs": [
    {
     "name": "stdout",
     "output_type": "stream",
     "text": [
      "2\n"
     ]
    }
   ],
   "execution_count": 11
  },
  {
   "metadata": {},
   "cell_type": "markdown",
   "source": "# Question4: The World of Triangles",
   "id": "35ae91ec2b4e93a0"
  },
  {
   "metadata": {
    "ExecuteTime": {
     "end_time": "2024-09-17T11:38:17.779619Z",
     "start_time": "2024-09-17T11:38:12.573028Z"
    }
   },
   "cell_type": "code",
   "source": [
    "n=int(input(\"Enter a number: \"))+1\n",
    "\n",
    "for i in range(n):\n",
    "    print(\" \"*(n-i-1),end='')\n",
    "    print(\"*\"*(2*i-1),end='')\n",
    "    print(\" \"*(n-i-1),end='\\n')"
   ],
   "id": "f53d4f83e0cf6f72",
   "outputs": [
    {
     "name": "stdout",
     "output_type": "stream",
     "text": [
      "          \n",
      "    *    \n",
      "   ***   \n",
      "  *****  \n",
      " ******* \n",
      "*********\n"
     ]
    }
   ],
   "execution_count": 16
  },
  {
   "metadata": {},
   "cell_type": "markdown",
   "source": "# Question5: Guess the Random Number",
   "id": "63d4d82336889e74"
  },
  {
   "metadata": {
    "ExecuteTime": {
     "end_time": "2024-09-17T11:45:39.086512Z",
     "start_time": "2024-09-17T11:45:29.500928Z"
    }
   },
   "cell_type": "code",
   "source": [
    "import random\n",
    "\n",
    "while True:\n",
    "    n = 0\n",
    "    randomInt = random.randint(1,100)\n",
    "    guess = -1\n",
    "    \n",
    "    while True:\n",
    "        n += 1\n",
    "        guess = int(input(\"Enter your guess of the computer age = \"))\n",
    "        if guess >= randomInt:\n",
    "            print(\"Your guess is too high!\")\n",
    "        elif guess < randomInt:\n",
    "            print(\"Your guess is too small!\")\n",
    "        else:  \n",
    "            print(\"Congratulations! You have guessed the computer’s age correctly.\")\n",
    "            print(\"You took {} attempt(s)\".format( n))\n",
    "            break\n",
    "        \n",
    "    isPlay = input(\"Do you want to continue with the game (Y: Yes, N: No) =\")\n",
    "    if isPlay.upper() == \"Y\":\n",
    "        continue\n",
    "    else:\n",
    "        break\n"
   ],
   "id": "24765f9b5d50545d",
   "outputs": [
    {
     "name": "stdout",
     "output_type": "stream",
     "text": [
      "Your guess is too small!\n",
      "Your guess is too small!\n"
     ]
    },
    {
     "ename": "KeyboardInterrupt",
     "evalue": "Interrupted by user",
     "output_type": "error",
     "traceback": [
      "\u001B[1;31m---------------------------------------------------------------------------\u001B[0m",
      "\u001B[1;31mKeyboardInterrupt\u001B[0m                         Traceback (most recent call last)",
      "Cell \u001B[1;32mIn[19], line 9\u001B[0m\n\u001B[0;32m      6\u001B[0m guess \u001B[38;5;241m=\u001B[39m \u001B[38;5;241m-\u001B[39m\u001B[38;5;241m1\u001B[39m\n\u001B[0;32m      8\u001B[0m \u001B[38;5;28;01mwhile\u001B[39;00m \u001B[38;5;28;01mTrue\u001B[39;00m:\n\u001B[1;32m----> 9\u001B[0m     guess \u001B[38;5;241m=\u001B[39m \u001B[38;5;28mint\u001B[39m(\u001B[38;5;28;43minput\u001B[39;49m\u001B[43m(\u001B[49m\u001B[38;5;124;43m\"\u001B[39;49m\u001B[38;5;124;43mEnter your guess of the computer age = \u001B[39;49m\u001B[38;5;124;43m\"\u001B[39;49m\u001B[43m)\u001B[49m)\n\u001B[0;32m     10\u001B[0m     \u001B[38;5;28;01mif\u001B[39;00m guess \u001B[38;5;241m>\u001B[39m\u001B[38;5;241m=\u001B[39m randomInt:\n\u001B[0;32m     11\u001B[0m         \u001B[38;5;28mprint\u001B[39m(\u001B[38;5;124m\"\u001B[39m\u001B[38;5;124mYour guess is too high!\u001B[39m\u001B[38;5;124m\"\u001B[39m)\n",
      "File \u001B[1;32m~\\.conda\\envs\\py38\\lib\\site-packages\\ipykernel\\kernelbase.py:1262\u001B[0m, in \u001B[0;36mKernel.raw_input\u001B[1;34m(self, prompt)\u001B[0m\n\u001B[0;32m   1260\u001B[0m     msg \u001B[38;5;241m=\u001B[39m \u001B[38;5;124m\"\u001B[39m\u001B[38;5;124mraw_input was called, but this frontend does not support input requests.\u001B[39m\u001B[38;5;124m\"\u001B[39m\n\u001B[0;32m   1261\u001B[0m     \u001B[38;5;28;01mraise\u001B[39;00m StdinNotImplementedError(msg)\n\u001B[1;32m-> 1262\u001B[0m \u001B[38;5;28;01mreturn\u001B[39;00m \u001B[38;5;28;43mself\u001B[39;49m\u001B[38;5;241;43m.\u001B[39;49m\u001B[43m_input_request\u001B[49m\u001B[43m(\u001B[49m\n\u001B[0;32m   1263\u001B[0m \u001B[43m    \u001B[49m\u001B[38;5;28;43mstr\u001B[39;49m\u001B[43m(\u001B[49m\u001B[43mprompt\u001B[49m\u001B[43m)\u001B[49m\u001B[43m,\u001B[49m\n\u001B[0;32m   1264\u001B[0m \u001B[43m    \u001B[49m\u001B[38;5;28;43mself\u001B[39;49m\u001B[38;5;241;43m.\u001B[39;49m\u001B[43m_parent_ident\u001B[49m\u001B[43m[\u001B[49m\u001B[38;5;124;43m\"\u001B[39;49m\u001B[38;5;124;43mshell\u001B[39;49m\u001B[38;5;124;43m\"\u001B[39;49m\u001B[43m]\u001B[49m\u001B[43m,\u001B[49m\n\u001B[0;32m   1265\u001B[0m \u001B[43m    \u001B[49m\u001B[38;5;28;43mself\u001B[39;49m\u001B[38;5;241;43m.\u001B[39;49m\u001B[43mget_parent\u001B[49m\u001B[43m(\u001B[49m\u001B[38;5;124;43m\"\u001B[39;49m\u001B[38;5;124;43mshell\u001B[39;49m\u001B[38;5;124;43m\"\u001B[39;49m\u001B[43m)\u001B[49m\u001B[43m,\u001B[49m\n\u001B[0;32m   1266\u001B[0m \u001B[43m    \u001B[49m\u001B[43mpassword\u001B[49m\u001B[38;5;241;43m=\u001B[39;49m\u001B[38;5;28;43;01mFalse\u001B[39;49;00m\u001B[43m,\u001B[49m\n\u001B[0;32m   1267\u001B[0m \u001B[43m\u001B[49m\u001B[43m)\u001B[49m\n",
      "File \u001B[1;32m~\\.conda\\envs\\py38\\lib\\site-packages\\ipykernel\\kernelbase.py:1305\u001B[0m, in \u001B[0;36mKernel._input_request\u001B[1;34m(self, prompt, ident, parent, password)\u001B[0m\n\u001B[0;32m   1302\u001B[0m \u001B[38;5;28;01mexcept\u001B[39;00m \u001B[38;5;167;01mKeyboardInterrupt\u001B[39;00m:\n\u001B[0;32m   1303\u001B[0m     \u001B[38;5;66;03m# re-raise KeyboardInterrupt, to truncate traceback\u001B[39;00m\n\u001B[0;32m   1304\u001B[0m     msg \u001B[38;5;241m=\u001B[39m \u001B[38;5;124m\"\u001B[39m\u001B[38;5;124mInterrupted by user\u001B[39m\u001B[38;5;124m\"\u001B[39m\n\u001B[1;32m-> 1305\u001B[0m     \u001B[38;5;28;01mraise\u001B[39;00m \u001B[38;5;167;01mKeyboardInterrupt\u001B[39;00m(msg) \u001B[38;5;28;01mfrom\u001B[39;00m \u001B[38;5;28;01mNone\u001B[39;00m\n\u001B[0;32m   1306\u001B[0m \u001B[38;5;28;01mexcept\u001B[39;00m \u001B[38;5;167;01mException\u001B[39;00m:\n\u001B[0;32m   1307\u001B[0m     \u001B[38;5;28mself\u001B[39m\u001B[38;5;241m.\u001B[39mlog\u001B[38;5;241m.\u001B[39mwarning(\u001B[38;5;124m\"\u001B[39m\u001B[38;5;124mInvalid Message:\u001B[39m\u001B[38;5;124m\"\u001B[39m, exc_info\u001B[38;5;241m=\u001B[39m\u001B[38;5;28;01mTrue\u001B[39;00m)\n",
      "\u001B[1;31mKeyboardInterrupt\u001B[0m: Interrupted by user"
     ]
    }
   ],
   "execution_count": 19
  }
 ],
 "metadata": {
  "kernelspec": {
   "display_name": "Python 3",
   "language": "python",
   "name": "python3"
  },
  "language_info": {
   "codemirror_mode": {
    "name": "ipython",
    "version": 2
   },
   "file_extension": ".py",
   "mimetype": "text/x-python",
   "name": "python",
   "nbconvert_exporter": "python",
   "pygments_lexer": "ipython2",
   "version": "2.7.6"
  }
 },
 "nbformat": 4,
 "nbformat_minor": 5
}
