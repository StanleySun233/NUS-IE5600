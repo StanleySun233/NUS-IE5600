{
 "cells": [
  {
   "metadata": {},
   "cell_type": "markdown",
   "source": "Question 1 – Compound Interest and Future Value Calculator (Basic)",
   "id": "a5f048b13f3aa4d9"
  },
  {
   "cell_type": "code",
   "id": "initial_id",
   "metadata": {
    "collapsed": true,
    "ExecuteTime": {
     "end_time": "2024-09-03T09:20:43.045993Z",
     "start_time": "2024-09-03T09:20:17.789335Z"
    }
   },
   "source": [
    "P0 = float(input(\"Principal:\").replace(\"$\",\"\").replace(\",\",\"\"))\n",
    "r = float(input(\"Annual interest rate (%):\")) / 100\n",
    "t = int(input(\"Total deposit duration (Years):\"))\n",
    "n = input(\"Compound frequency:\")\n",
    "if n == 'semi-annually':\n",
    "    n = 2\n",
    "else:\n",
    "    n = int(n)\n",
    "\n",
    "result = P0*(1+r/n)**(n * t)\n",
    "print(result)"
   ],
   "outputs": [
    {
     "name": "stdout",
     "output_type": "stream",
     "text": [
      "10535.906734756178\n"
     ]
    }
   ],
   "execution_count": 3
  },
  {
   "metadata": {},
   "cell_type": "markdown",
   "source": "Expected output: $10535.91",
   "id": "3f28139ff3a79687"
  }
 ],
 "metadata": {
  "kernelspec": {
   "display_name": "Python 3",
   "language": "python",
   "name": "python3"
  },
  "language_info": {
   "codemirror_mode": {
    "name": "ipython",
    "version": 2
   },
   "file_extension": ".py",
   "mimetype": "text/x-python",
   "name": "python",
   "nbconvert_exporter": "python",
   "pygments_lexer": "ipython2",
   "version": "2.7.6"
  }
 },
 "nbformat": 4,
 "nbformat_minor": 5
}
