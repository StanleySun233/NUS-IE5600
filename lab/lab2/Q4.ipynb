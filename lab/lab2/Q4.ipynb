{
 "cells": [
  {
   "metadata": {},
   "cell_type": "markdown",
   "source": "Question 4 – The World of Triangles (Intermediate)",
   "id": "9e68a6804f61bc71"
  },
  {
   "metadata": {
    "ExecuteTime": {
     "end_time": "2024-09-03T09:40:54.894152Z",
     "start_time": "2024-09-03T09:40:49.787779Z"
    }
   },
   "cell_type": "code",
   "source": [
    "angle1, angle2, angle3 = input('Input 3 angles of triangle: ').split()\n",
    "angle1 = int(angle1)\n",
    "angle2 = int(angle2)\n",
    "angle3 = int(angle3)\n",
    "angle1,angle2,angle3 = sorted([angle1,angle2,angle3])\n",
    "kind = []\n",
    "if angle1+ angle2 + angle3 != 180:\n",
    "    print(\"Not a valid triangle\")\n",
    "else:\n",
    "    if angle1 == angle2 == angle3:\n",
    "        kind.append(\"equilateral\")\n",
    "    if angle1 == angle2 and angle2 != angle3:\n",
    "        kind.append(\"isosceles\")\n",
    "    if angle1 != angle2 and angle3 != angle1 and angle2 != angle3:\n",
    "        kind.append(\"scalene\")\n",
    "    if 90 in [angle1,angle2,angle3]:\n",
    "        kind.append(\"right\")\n",
    "    if max(angle1,angle2,angle3)< 90:\n",
    "        kind.append(\"acute\")\n",
    "    if max(angle1,angle2,angle3)> 90:\n",
    "        kind.append(\"obtuse\")\n",
    "    print(\"Type of this triangles:\",\", \".join(kind))"
   ],
   "id": "dd6865ab85ccdb04",
   "outputs": [
    {
     "name": "stdout",
     "output_type": "stream",
     "text": [
      "Type of this triangles: equilateral, acute\n"
     ]
    }
   ],
   "execution_count": 2
  },
  {
   "metadata": {},
   "cell_type": "code",
   "outputs": [],
   "execution_count": null,
   "source": "",
   "id": "5761cc42c1187ee3"
  }
 ],
 "metadata": {
  "kernelspec": {
   "display_name": "Python 3",
   "language": "python",
   "name": "python3"
  },
  "language_info": {
   "codemirror_mode": {
    "name": "ipython",
    "version": 2
   },
   "file_extension": ".py",
   "mimetype": "text/x-python",
   "name": "python",
   "nbconvert_exporter": "python",
   "pygments_lexer": "ipython2",
   "version": "2.7.6"
  }
 },
 "nbformat": 4,
 "nbformat_minor": 5
}
