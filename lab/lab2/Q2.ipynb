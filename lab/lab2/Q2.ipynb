{
 "cells": [
  {
   "cell_type": "code",
   "id": "initial_id",
   "metadata": {
    "collapsed": true,
    "ExecuteTime": {
     "end_time": "2024-09-03T09:28:05.038897Z",
     "start_time": "2024-09-03T09:27:58.585913Z"
    }
   },
   "source": [
    "conversion_type = input('Enter temperature conversion type\\n'\n",
    "                        '(C for Celsius to Fahrenheit | F for Fahrenheit to Celsius) = ')\n",
    "if conversion_type not in ['C','F']:\n",
    "    print(\"ERROR: Invalid temperature conversion type\")\n",
    "elif conversion_type == 'C':\n",
    "    f = float(input('Fahrenheit to Celsius: '))\n",
    "    if 32<f<212:\n",
    "        print(\"Invalid temperature range for Fahrenheit\")\n",
    "    else:\n",
    "        c = (f-32)*5/9\n",
    "        print(c)\n",
    "else:\n",
    "    c = float(input('Celsius to Fahrenheit: '))\n",
    "    if 0<c<100:\n",
    "        print(\"Invalid temperature range for Celsius\")\n",
    "    else:\n",
    "        f = c*9/5 +32\n",
    "        print(f)"
   ],
   "outputs": [
    {
     "name": "stdout",
     "output_type": "stream",
     "text": [
      "Invalid temperature range for Fahrenheit\n",
      "93.33333333333333\n"
     ]
    }
   ],
   "execution_count": 3
  },
  {
   "metadata": {},
   "cell_type": "code",
   "outputs": [],
   "execution_count": null,
   "source": "",
   "id": "ade85ff66a1036d2"
  }
 ],
 "metadata": {
  "kernelspec": {
   "display_name": "Python 3",
   "language": "python",
   "name": "python3"
  },
  "language_info": {
   "codemirror_mode": {
    "name": "ipython",
    "version": 2
   },
   "file_extension": ".py",
   "mimetype": "text/x-python",
   "name": "python",
   "nbconvert_exporter": "python",
   "pygments_lexer": "ipython2",
   "version": "2.7.6"
  }
 },
 "nbformat": 4,
 "nbformat_minor": 5
}
