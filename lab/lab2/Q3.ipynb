{
 "cells": [
  {
   "cell_type": "code",
   "id": "initial_id",
   "metadata": {
    "collapsed": true,
    "ExecuteTime": {
     "end_time": "2024-09-03T09:32:55.304963Z",
     "start_time": "2024-09-03T09:32:50.852690Z"
    }
   },
   "source": [
    "word = input('Enter a word of at most 5 alphabets: ')\n",
    "word = word.strip().lower()\n",
    "length = len(word)\n",
    "flag = 1\n",
    "if length > 5:\n",
    "    flag = 0\n",
    "elif word != word[::-1]:\n",
    "    flag = 0\n",
    "\n",
    "print(['Is not a palindrome','Is a palindrome'][flag])"
   ],
   "outputs": [
    {
     "name": "stdout",
     "output_type": "stream",
     "text": [
      "Is a palindrome\n"
     ]
    }
   ],
   "execution_count": 2
  },
  {
   "metadata": {},
   "cell_type": "code",
   "outputs": [],
   "execution_count": null,
   "source": "",
   "id": "f837201cd9bbd10a"
  }
 ],
 "metadata": {
  "kernelspec": {
   "display_name": "Python 3",
   "language": "python",
   "name": "python3"
  },
  "language_info": {
   "codemirror_mode": {
    "name": "ipython",
    "version": 2
   },
   "file_extension": ".py",
   "mimetype": "text/x-python",
   "name": "python",
   "nbconvert_exporter": "python",
   "pygments_lexer": "ipython2",
   "version": "2.7.6"
  }
 },
 "nbformat": 4,
 "nbformat_minor": 5
}
