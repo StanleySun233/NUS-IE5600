{
 "cells": [
  {
   "cell_type": "code",
   "id": "initial_id",
   "metadata": {
    "collapsed": true,
    "ExecuteTime": {
     "end_time": "2024-08-27T09:37:57.821845Z",
     "start_time": "2024-08-27T09:37:57.795146Z"
    }
   },
   "source": [
    "def is_palindrome(n:str) -> bool:\n",
    "    return n.lower() == n[::-1].lower() and len(n)<=5"
   ],
   "outputs": [],
   "execution_count": 9
  },
  {
   "metadata": {
    "ExecuteTime": {
     "end_time": "2024-08-27T09:37:57.885444Z",
     "start_time": "2024-08-27T09:37:57.861053Z"
    }
   },
   "cell_type": "code",
   "source": [
    "print(\"label\",is_palindrome(\"label\"))\n",
    "print(\"Labal\",is_palindrome(\"Labal\"))\n",
    "print(\"labbal\",is_palindrome(\"labbal\"))"
   ],
   "id": "ba8b10b52c3829f6",
   "outputs": [
    {
     "name": "stdout",
     "output_type": "stream",
     "text": [
      "label False\n",
      "Labal True\n",
      "labbal False\n"
     ]
    }
   ],
   "execution_count": 10
  },
  {
   "metadata": {
    "ExecuteTime": {
     "end_time": "2024-08-27T09:39:03.064953Z",
     "start_time": "2024-08-27T09:39:03.037156Z"
    }
   },
   "cell_type": "code",
   "source": [
    "def is_palindrome_step(n:str) -> bool:\n",
    "    l = len(n)\n",
    "    nn = n.lower()\n",
    "    if l > 5:\n",
    "        return False\n",
    "    if l==2:\n",
    "        if nn[0]==nn[1]:\n",
    "            return True\n",
    "        else:\n",
    "            return False\n",
    "    elif l ==3:\n",
    "        if nn[0]==nn[2]:\n",
    "            return True\n",
    "        else:\n",
    "            return False\n",
    "    elif l == 4:\n",
    "        if nn[0]==nn[3] and nn[1]==nn[2]:\n",
    "            return True\n",
    "        else:\n",
    "            return False\n",
    "    elif l == 5:\n",
    "        if nn[0]==nn[4] and nn[1]==nn[3]:\n",
    "            return True\n",
    "        else:\n",
    "            return False\n",
    "    return True\n",
    "        "
   ],
   "id": "e63d9e37cb3e607f",
   "outputs": [],
   "execution_count": 13
  },
  {
   "metadata": {
    "ExecuteTime": {
     "end_time": "2024-08-27T09:39:04.832309Z",
     "start_time": "2024-08-27T09:39:04.801019Z"
    }
   },
   "cell_type": "code",
   "source": [
    "print(\"label\",is_palindrome_step(\"label\"))\n",
    "print(\"Labal\",is_palindrome_step(\"Labal\"))\n",
    "print(\"labbal\",is_palindrome_step(\"labbal\"))"
   ],
   "id": "61ba63ac3c365a17",
   "outputs": [
    {
     "name": "stdout",
     "output_type": "stream",
     "text": [
      "label False\n",
      "Labal True\n",
      "labbal False\n"
     ]
    }
   ],
   "execution_count": 14
  },
  {
   "metadata": {
    "ExecuteTime": {
     "end_time": "2024-08-27T09:39:05.301859Z",
     "start_time": "2024-08-27T09:39:05.283846Z"
    }
   },
   "cell_type": "code",
   "source": "",
   "id": "e3c76f9c0747f7a0",
   "outputs": [],
   "execution_count": null
  },
  {
   "metadata": {},
   "cell_type": "code",
   "outputs": [],
   "execution_count": null,
   "source": "",
   "id": "8cd50ff651f97b35"
  }
 ],
 "metadata": {
  "kernelspec": {
   "display_name": "Python 3",
   "language": "python",
   "name": "python3"
  },
  "language_info": {
   "codemirror_mode": {
    "name": "ipython",
    "version": 2
   },
   "file_extension": ".py",
   "mimetype": "text/x-python",
   "name": "python",
   "nbconvert_exporter": "python",
   "pygments_lexer": "ipython2",
   "version": "2.7.6"
  }
 },
 "nbformat": 4,
 "nbformat_minor": 5
}
