{
 "cells": [
  {
   "metadata": {},
   "cell_type": "markdown",
   "source": "# Question1: Compound Interest and Future Value Calculator",
   "id": "a9d03b8d2b0f5573"
  },
  {
   "cell_type": "code",
   "id": "initial_id",
   "metadata": {
    "collapsed": true,
    "ExecuteTime": {
     "end_time": "2024-09-17T11:20:49.663563Z",
     "start_time": "2024-09-17T11:20:38.220055Z"
    }
   },
   "source": [
    "P0 = float(input(\"Principal:\").replace(\"$\",\"\").replace(\",\",\"\"))\n",
    "r = float(input(\"Annual interest rate (%):\")) / 100\n",
    "t = int(input(\"Total deposit duration (Years):\"))\n",
    "n = input(\"Compound frequency:\")\n",
    "if n == 'semi-annually':\n",
    "    n = 2\n",
    "else:\n",
    "    n = int(n)\n",
    "\n",
    "result = P0*(1+r/n)**(n * t)\n",
    "print(result)"
   ],
   "outputs": [
    {
     "name": "stdout",
     "output_type": "stream",
     "text": [
      "1638.6164402903942\n"
     ]
    }
   ],
   "execution_count": 1
  },
  {
   "metadata": {},
   "cell_type": "markdown",
   "source": "# Question2: Enhanced Temperature Conversion",
   "id": "a17196dc37cf3c3b"
  },
  {
   "metadata": {
    "ExecuteTime": {
     "end_time": "2024-09-17T11:20:57.896721Z",
     "start_time": "2024-09-17T11:20:49.765973Z"
    }
   },
   "cell_type": "code",
   "source": [
    "conversion_type = input('Enter temperature conversion type\\n'\n",
    "                        '(C for Celsius to Fahrenheit | F for Fahrenheit to Celsius) = ')\n",
    "if conversion_type not in ['C','F']:\n",
    "    print(\"ERROR: Invalid temperature conversion type\")\n",
    "elif conversion_type == 'C':\n",
    "    f = float(input('Fahrenheit to Celsius: '))\n",
    "    if 32<f<212:\n",
    "        print(\"Invalid temperature range for Fahrenheit\")\n",
    "    else:\n",
    "        c = (f-32)*5/9\n",
    "        print(c)\n",
    "else:\n",
    "    c = float(input('Celsius to Fahrenheit: '))\n",
    "    if 0<c<100:\n",
    "        print(\"Invalid temperature range for Celsius\")\n",
    "    else:\n",
    "        f = c*9/5 +32\n",
    "        print(f)"
   ],
   "id": "7d773bb9aff25f23",
   "outputs": [
    {
     "name": "stdout",
     "output_type": "stream",
     "text": [
      "Invalid temperature range for Fahrenheit\n"
     ]
    }
   ],
   "execution_count": 2
  },
  {
   "metadata": {},
   "cell_type": "markdown",
   "source": "# Question3: Palindrome Checking the Hard Way",
   "id": "e7421910a41b4a9"
  },
  {
   "metadata": {
    "ExecuteTime": {
     "end_time": "2024-09-17T11:21:04.296912Z",
     "start_time": "2024-09-17T11:20:57.995707Z"
    }
   },
   "cell_type": "code",
   "source": [
    "word = input('Enter a word of at most 5 alphabets: ')\n",
    "word = word.strip().lower()\n",
    "length = len(word)\n",
    "flag = 1\n",
    "if length > 5:\n",
    "    flag = 0\n",
    "elif word != word[::-1]:\n",
    "    flag = 0\n",
    "\n",
    "print(['Is not a palindrome','Is a palindrome'][flag])"
   ],
   "id": "633b14c337d58a77",
   "outputs": [
    {
     "name": "stdout",
     "output_type": "stream",
     "text": [
      "Is not a palindrome\n"
     ]
    }
   ],
   "execution_count": 3
  },
  {
   "metadata": {},
   "cell_type": "markdown",
   "source": "# Question4: The World of Triangles",
   "id": "a938a5d660712773"
  },
  {
   "metadata": {
    "ExecuteTime": {
     "end_time": "2024-09-17T11:21:09.106188Z",
     "start_time": "2024-09-17T11:21:04.331600Z"
    }
   },
   "cell_type": "code",
   "source": [
    "angle1, angle2, angle3 = input('Input 3 angles of triangle: ').split()\n",
    "angle1 = int(angle1)\n",
    "angle2 = int(angle2)\n",
    "angle3 = int(angle3)\n",
    "angle1,angle2,angle3 = sorted([angle1,angle2,angle3])\n",
    "kind = []\n",
    "if angle1+ angle2 + angle3 != 180:\n",
    "    print(\"Not a valid triangle\")\n",
    "else:\n",
    "    if angle1 == angle2 == angle3:\n",
    "        kind.append(\"equilateral\")\n",
    "    if angle1 == angle2 and angle2 != angle3:\n",
    "        kind.append(\"isosceles\")\n",
    "    if angle1 != angle2 and angle3 != angle1 and angle2 != angle3:\n",
    "        kind.append(\"scalene\")\n",
    "    if 90 in [angle1,angle2,angle3]:\n",
    "        kind.append(\"right\")\n",
    "    if max(angle1,angle2,angle3)< 90:\n",
    "        kind.append(\"acute\")\n",
    "    if max(angle1,angle2,angle3) > 90:\n",
    "        kind.append(\"obtuse\")\n",
    "    print(\"Type of this triangles:\",\", \".join(kind))"
   ],
   "id": "a10dd7d0e88e4a4f",
   "outputs": [
    {
     "name": "stdout",
     "output_type": "stream",
     "text": [
      "Not a valid triangle\n"
     ]
    }
   ],
   "execution_count": 4
  }
 ],
 "metadata": {
  "kernelspec": {
   "display_name": "Python 3",
   "language": "python",
   "name": "python3"
  },
  "language_info": {
   "codemirror_mode": {
    "name": "ipython",
    "version": 2
   },
   "file_extension": ".py",
   "mimetype": "text/x-python",
   "name": "python",
   "nbconvert_exporter": "python",
   "pygments_lexer": "ipython2",
   "version": "2.7.6"
  }
 },
 "nbformat": 4,
 "nbformat_minor": 5
}
