{
 "cells": [
  {
   "metadata": {},
   "cell_type": "markdown",
   "source": "# Question1: Adding up 2 list elementwise",
   "id": "448675600ab8125d"
  },
  {
   "metadata": {
    "ExecuteTime": {
     "end_time": "2024-09-17T12:34:53.801943Z",
     "start_time": "2024-09-17T12:34:53.791844Z"
    }
   },
   "cell_type": "code",
   "source": [
    "def add(a,b):\n",
    "    return [i+j for i,j in zip(a,b)]"
   ],
   "id": "c1ef142a249150a9",
   "outputs": [],
   "execution_count": 3
  },
  {
   "metadata": {
    "ExecuteTime": {
     "end_time": "2024-09-17T12:34:53.845420Z",
     "start_time": "2024-09-17T12:34:53.832328Z"
    }
   },
   "cell_type": "code",
   "source": [
    "A = [1, 2, 3]\n",
    "B = [5, 6, 8]\n",
    "add(A,B)"
   ],
   "id": "8aa6e563ffd46f29",
   "outputs": [
    {
     "data": {
      "text/plain": [
       "[6, 8, 11]"
      ]
     },
     "execution_count": 4,
     "metadata": {},
     "output_type": "execute_result"
    }
   ],
   "execution_count": 4
  },
  {
   "metadata": {
    "ExecuteTime": {
     "end_time": "2024-09-17T12:34:53.873770Z",
     "start_time": "2024-09-17T12:34:53.862799Z"
    }
   },
   "cell_type": "code",
   "source": [
    "A = [1, -2, 3]\n",
    "B = [5, 4, 3]\n",
    "add(A,B)"
   ],
   "id": "94a3b2602d8752f8",
   "outputs": [
    {
     "data": {
      "text/plain": [
       "[6, 2, 6]"
      ]
     },
     "execution_count": 5,
     "metadata": {},
     "output_type": "execute_result"
    }
   ],
   "execution_count": 5
  },
  {
   "metadata": {
    "ExecuteTime": {
     "end_time": "2024-09-17T12:34:53.919399Z",
     "start_time": "2024-09-17T12:34:53.907398Z"
    }
   },
   "cell_type": "code",
   "source": [
    "A = [1, 2, 3, 7, 8]\n",
    "B = [5, 4, 3, 2, 1]\n",
    "add(A,B)"
   ],
   "id": "52d9c639960bd6c4",
   "outputs": [
    {
     "data": {
      "text/plain": [
       "[6, 6, 6, 9, 9]"
      ]
     },
     "execution_count": 6,
     "metadata": {},
     "output_type": "execute_result"
    }
   ],
   "execution_count": 6
  },
  {
   "metadata": {},
   "cell_type": "markdown",
   "source": "# Question2: Palindrome Checking the Easy and Fun Way",
   "id": "593d8b8f290d05b8"
  },
  {
   "metadata": {
    "ExecuteTime": {
     "end_time": "2024-09-17T12:34:53.980990Z",
     "start_time": "2024-09-17T12:34:53.967256Z"
    }
   },
   "cell_type": "code",
   "source": [
    "def is_palindrome(s:str)->bool:\n",
    "    s = [i for i in s.strip().lower() if i.isalpha()]\n",
    "    if s == '':\n",
    "        return False\n",
    "    if s == s[::-1]:\n",
    "        return True\n",
    "    return False"
   ],
   "id": "611fabab10287f05",
   "outputs": [],
   "execution_count": 7
  },
  {
   "metadata": {
    "ExecuteTime": {
     "end_time": "2024-09-17T12:34:54.040060Z",
     "start_time": "2024-09-17T12:34:54.027362Z"
    }
   },
   "cell_type": "code",
   "source": "is_palindrome(\"Madam\")",
   "id": "bfbc0b5ea1d7f9b2",
   "outputs": [
    {
     "data": {
      "text/plain": [
       "True"
      ]
     },
     "execution_count": 8,
     "metadata": {},
     "output_type": "execute_result"
    }
   ],
   "execution_count": 8
  },
  {
   "metadata": {
    "ExecuteTime": {
     "end_time": "2024-09-17T12:34:54.081951Z",
     "start_time": "2024-09-17T12:34:54.069117Z"
    }
   },
   "cell_type": "code",
   "source": "is_palindrome(\"Apple\")",
   "id": "140501e72b38c60a",
   "outputs": [
    {
     "data": {
      "text/plain": [
       "False"
      ]
     },
     "execution_count": 9,
     "metadata": {},
     "output_type": "execute_result"
    }
   ],
   "execution_count": 9
  },
  {
   "metadata": {
    "ExecuteTime": {
     "end_time": "2024-09-17T12:34:54.119843Z",
     "start_time": "2024-09-17T12:34:54.111843Z"
    }
   },
   "cell_type": "code",
   "source": "is_palindrome(\"Eva, can I see bees in a cave?\")",
   "id": "c3975747f3913cd2",
   "outputs": [
    {
     "data": {
      "text/plain": [
       "True"
      ]
     },
     "execution_count": 10,
     "metadata": {},
     "output_type": "execute_result"
    }
   ],
   "execution_count": 10
  },
  {
   "metadata": {
    "ExecuteTime": {
     "end_time": "2024-09-17T12:34:54.148608Z",
     "start_time": "2024-09-17T12:34:54.138812Z"
    }
   },
   "cell_type": "code",
   "source": "is_palindrome(\"The brown fox jumps over the lazy dog!\")",
   "id": "7074d5d43d5f1834",
   "outputs": [
    {
     "data": {
      "text/plain": [
       "False"
      ]
     },
     "execution_count": 11,
     "metadata": {},
     "output_type": "execute_result"
    }
   ],
   "execution_count": 11
  },
  {
   "metadata": {},
   "cell_type": "markdown",
   "source": "# Question3: Mean Calculator",
   "id": "5b5a9628cb9647f"
  },
  {
   "metadata": {
    "ExecuteTime": {
     "end_time": "2024-09-17T12:34:54.210733Z",
     "start_time": "2024-09-17T12:34:54.197765Z"
    }
   },
   "cell_type": "code",
   "source": [
    "import math\n",
    "def mean_calculator(sheet):\n",
    "    arithmetic_mean = sum(sheet)/len(sheet)\n",
    "    geometric_mean = math.prod(sheet) ** (1/len(sheet))\n",
    "    harmonic_mean = (len(sheet)) / (sum([1/i for i in sheet]))\n",
    "    return arithmetic_mean, geometric_mean, harmonic_mean,geometric_mean,harmonic_mean\n",
    "\n",
    "s1 = list(map(float,\"1, 2, 3, 4, 5, 6, 7, 8, 9, 10\".split(\", \")))\n",
    "s2 = list(map(float,\"15, 55, 9, 63, 80, 100, 45, 63, 26, 75\".split(\", \")))\n",
    "s3 = list(map(float,\"3.142, 55.5, 80, 90, 10, 65.6, 75.5, 45.5, 30, 25.5\".split(\", \")))\n",
    "\n",
    "print(mean_calculator(s1))\n",
    "print(mean_calculator(s2))\n",
    "print(mean_calculator(s3))\n"
   ],
   "id": "3cc5f3214b31ec1b",
   "outputs": [
    {
     "name": "stdout",
     "output_type": "stream",
     "text": [
      "(5.5, 4.528728688116765, 3.414171521474055, 4.528728688116765, 3.414171521474055)\n",
      "(53.1, 42.81258655934022, 30.842995663185178, 42.81258655934022, 30.842995663185178)\n",
      "(48.0742, 34.16138959341861, 17.15519736703651, 34.16138959341861, 17.15519736703651)\n"
     ]
    }
   ],
   "execution_count": 12
  },
  {
   "metadata": {},
   "cell_type": "markdown",
   "source": "# Question4: Students’ Age Database",
   "id": "cc0b41dc89e39be0"
  },
  {
   "metadata": {},
   "cell_type": "markdown",
   "source": "Use `List<Dict{Name,Age}>` structure",
   "id": "611a55c25b6147e0"
  },
  {
   "metadata": {
    "ExecuteTime": {
     "end_time": "2024-09-17T12:35:22.567428Z",
     "start_time": "2024-09-17T12:34:54.230721Z"
    }
   },
   "cell_type": "code",
   "source": [
    "import time\n",
    "\n",
    "df = []\n",
    "\n",
    "\n",
    "def get_age_by_name(_name):\n",
    "    for i in df:\n",
    "        if i['name'] == _name:\n",
    "            return i['age']\n",
    "    return \n",
    "print(\"Welcome to Student's Age Database\")\n",
    "while True:\n",
    "    print(\"A. Input New Student\")\n",
    "    print(\"B. Query Student Age\")\n",
    "    print(\"C. Compute Average Age\")\n",
    "    print(\"D. Count Student By Age\")\n",
    "    print(\"E. Exit\")\n",
    "    n = input(\">\")\n",
    "    if n =='A':\n",
    "        name,age = input(\"Enter Name and Age: \").split()\n",
    "        age = int(age)\n",
    "        if name in [i[\"name\"] for i in df]:\n",
    "            print(\"Duplicate Student\")\n",
    "        else:\n",
    "            df.append({\"name\":name, \"age\":age})\n",
    "            print(f\"name: {name} saved successfully.\")\n",
    "    elif n =='B':\n",
    "        name = input(\"Enter Name: \")\n",
    "        if name in [i[\"name\"] for i in df]:\n",
    "            print(\"{name}'s age is: {age}\".format(name=name, age=get_age_by_name(name)))\n",
    "    elif n == \"C\":\n",
    "        print(\"Average age is:\",round(mean_calculator([i[\"age\"] for i in df])[0],2))\n",
    "    elif n == \"D\":\n",
    "        data = {}\n",
    "        for i in df:\n",
    "            if i[\"age\"] in data.keys():\n",
    "                data[i[\"age\"]] = data[i[\"age\"]] + 1\n",
    "            else:\n",
    "                data[i[\"age\"]] = 1\n",
    "        ds = [[i,j] for i,j in data.items()]\n",
    "        print(\"Age\\t\\t|Count\\t\\t\")\n",
    "        ds.sort(key=lambda x:x[0])\n",
    "        for i in ds:\n",
    "            print(f\"{i[0]}\\t\\t {i[1]}\")\n",
    "    else:\n",
    "        break\n",
    "    print(\"Back to Menu\")\n",
    "    "
   ],
   "id": "3d5128c3be5ee7a0",
   "outputs": [
    {
     "name": "stdout",
     "output_type": "stream",
     "text": [
      "Welcome to Student's Age Database\n",
      "A. Input New Student\n",
      "B. Query Student Age\n",
      "C. Compute Average Age\n",
      "D. Count Student By Age\n",
      "E. Exit\n",
      "name: APPLE saved successfully.\n",
      "Back to Menu\n",
      "A. Input New Student\n",
      "B. Query Student Age\n",
      "C. Compute Average Age\n",
      "D. Count Student By Age\n",
      "E. Exit\n",
      "Back to Menu\n",
      "A. Input New Student\n",
      "B. Query Student Age\n",
      "C. Compute Average Age\n",
      "D. Count Student By Age\n",
      "E. Exit\n",
      "name: CAT saved successfully.\n",
      "Back to Menu\n",
      "A. Input New Student\n",
      "B. Query Student Age\n",
      "C. Compute Average Age\n",
      "D. Count Student By Age\n",
      "E. Exit\n",
      "Average age is: 20.0\n",
      "Back to Menu\n",
      "A. Input New Student\n",
      "B. Query Student Age\n",
      "C. Compute Average Age\n",
      "D. Count Student By Age\n",
      "E. Exit\n",
      "Age\t\t|Count\t\t\n",
      "10\t\t 1\n",
      "30\t\t 1\n",
      "Back to Menu\n",
      "A. Input New Student\n",
      "B. Query Student Age\n",
      "C. Compute Average Age\n",
      "D. Count Student By Age\n",
      "E. Exit\n",
      "Back to Menu\n",
      "A. Input New Student\n",
      "B. Query Student Age\n",
      "C. Compute Average Age\n",
      "D. Count Student By Age\n",
      "E. Exit\n",
      "Back to Menu\n",
      "A. Input New Student\n",
      "B. Query Student Age\n",
      "C. Compute Average Age\n",
      "D. Count Student By Age\n",
      "E. Exit\n"
     ]
    },
    {
     "ename": "KeyboardInterrupt",
     "evalue": "Interrupted by user",
     "output_type": "error",
     "traceback": [
      "\u001B[1;31m---------------------------------------------------------------------------\u001B[0m",
      "\u001B[1;31mKeyboardInterrupt\u001B[0m                         Traceback (most recent call last)",
      "Cell \u001B[1;32mIn[13], line 18\u001B[0m\n\u001B[0;32m     16\u001B[0m \u001B[38;5;28mprint\u001B[39m(\u001B[38;5;124m\"\u001B[39m\u001B[38;5;124mD. Count Student By Age\u001B[39m\u001B[38;5;124m\"\u001B[39m)\n\u001B[0;32m     17\u001B[0m \u001B[38;5;28mprint\u001B[39m(\u001B[38;5;124m\"\u001B[39m\u001B[38;5;124mE. Exit\u001B[39m\u001B[38;5;124m\"\u001B[39m)\n\u001B[1;32m---> 18\u001B[0m n \u001B[38;5;241m=\u001B[39m \u001B[38;5;28;43minput\u001B[39;49m\u001B[43m(\u001B[49m\u001B[38;5;124;43m\"\u001B[39;49m\u001B[38;5;124;43m>\u001B[39;49m\u001B[38;5;124;43m\"\u001B[39;49m\u001B[43m)\u001B[49m\n\u001B[0;32m     19\u001B[0m \u001B[38;5;28;01mif\u001B[39;00m n \u001B[38;5;241m==\u001B[39m\u001B[38;5;124m'\u001B[39m\u001B[38;5;124mA\u001B[39m\u001B[38;5;124m'\u001B[39m:\n\u001B[0;32m     20\u001B[0m     name,age \u001B[38;5;241m=\u001B[39m \u001B[38;5;28minput\u001B[39m(\u001B[38;5;124m\"\u001B[39m\u001B[38;5;124mEnter Name and Age: \u001B[39m\u001B[38;5;124m\"\u001B[39m)\u001B[38;5;241m.\u001B[39msplit()\n",
      "File \u001B[1;32m~\\.conda\\envs\\py38\\lib\\site-packages\\ipykernel\\kernelbase.py:1262\u001B[0m, in \u001B[0;36mKernel.raw_input\u001B[1;34m(self, prompt)\u001B[0m\n\u001B[0;32m   1260\u001B[0m     msg \u001B[38;5;241m=\u001B[39m \u001B[38;5;124m\"\u001B[39m\u001B[38;5;124mraw_input was called, but this frontend does not support input requests.\u001B[39m\u001B[38;5;124m\"\u001B[39m\n\u001B[0;32m   1261\u001B[0m     \u001B[38;5;28;01mraise\u001B[39;00m StdinNotImplementedError(msg)\n\u001B[1;32m-> 1262\u001B[0m \u001B[38;5;28;01mreturn\u001B[39;00m \u001B[38;5;28;43mself\u001B[39;49m\u001B[38;5;241;43m.\u001B[39;49m\u001B[43m_input_request\u001B[49m\u001B[43m(\u001B[49m\n\u001B[0;32m   1263\u001B[0m \u001B[43m    \u001B[49m\u001B[38;5;28;43mstr\u001B[39;49m\u001B[43m(\u001B[49m\u001B[43mprompt\u001B[49m\u001B[43m)\u001B[49m\u001B[43m,\u001B[49m\n\u001B[0;32m   1264\u001B[0m \u001B[43m    \u001B[49m\u001B[38;5;28;43mself\u001B[39;49m\u001B[38;5;241;43m.\u001B[39;49m\u001B[43m_parent_ident\u001B[49m\u001B[43m[\u001B[49m\u001B[38;5;124;43m\"\u001B[39;49m\u001B[38;5;124;43mshell\u001B[39;49m\u001B[38;5;124;43m\"\u001B[39;49m\u001B[43m]\u001B[49m\u001B[43m,\u001B[49m\n\u001B[0;32m   1265\u001B[0m \u001B[43m    \u001B[49m\u001B[38;5;28;43mself\u001B[39;49m\u001B[38;5;241;43m.\u001B[39;49m\u001B[43mget_parent\u001B[49m\u001B[43m(\u001B[49m\u001B[38;5;124;43m\"\u001B[39;49m\u001B[38;5;124;43mshell\u001B[39;49m\u001B[38;5;124;43m\"\u001B[39;49m\u001B[43m)\u001B[49m\u001B[43m,\u001B[49m\n\u001B[0;32m   1266\u001B[0m \u001B[43m    \u001B[49m\u001B[43mpassword\u001B[49m\u001B[38;5;241;43m=\u001B[39;49m\u001B[38;5;28;43;01mFalse\u001B[39;49;00m\u001B[43m,\u001B[49m\n\u001B[0;32m   1267\u001B[0m \u001B[43m\u001B[49m\u001B[43m)\u001B[49m\n",
      "File \u001B[1;32m~\\.conda\\envs\\py38\\lib\\site-packages\\ipykernel\\kernelbase.py:1305\u001B[0m, in \u001B[0;36mKernel._input_request\u001B[1;34m(self, prompt, ident, parent, password)\u001B[0m\n\u001B[0;32m   1302\u001B[0m \u001B[38;5;28;01mexcept\u001B[39;00m \u001B[38;5;167;01mKeyboardInterrupt\u001B[39;00m:\n\u001B[0;32m   1303\u001B[0m     \u001B[38;5;66;03m# re-raise KeyboardInterrupt, to truncate traceback\u001B[39;00m\n\u001B[0;32m   1304\u001B[0m     msg \u001B[38;5;241m=\u001B[39m \u001B[38;5;124m\"\u001B[39m\u001B[38;5;124mInterrupted by user\u001B[39m\u001B[38;5;124m\"\u001B[39m\n\u001B[1;32m-> 1305\u001B[0m     \u001B[38;5;28;01mraise\u001B[39;00m \u001B[38;5;167;01mKeyboardInterrupt\u001B[39;00m(msg) \u001B[38;5;28;01mfrom\u001B[39;00m \u001B[38;5;28;01mNone\u001B[39;00m\n\u001B[0;32m   1306\u001B[0m \u001B[38;5;28;01mexcept\u001B[39;00m \u001B[38;5;167;01mException\u001B[39;00m:\n\u001B[0;32m   1307\u001B[0m     \u001B[38;5;28mself\u001B[39m\u001B[38;5;241m.\u001B[39mlog\u001B[38;5;241m.\u001B[39mwarning(\u001B[38;5;124m\"\u001B[39m\u001B[38;5;124mInvalid Message:\u001B[39m\u001B[38;5;124m\"\u001B[39m, exc_info\u001B[38;5;241m=\u001B[39m\u001B[38;5;28;01mTrue\u001B[39;00m)\n",
      "\u001B[1;31mKeyboardInterrupt\u001B[0m: Interrupted by user"
     ]
    }
   ],
   "execution_count": 13
  }
 ],
 "metadata": {
  "kernelspec": {
   "display_name": "Python 3",
   "language": "python",
   "name": "python3"
  },
  "language_info": {
   "codemirror_mode": {
    "name": "ipython",
    "version": 2
   },
   "file_extension": ".py",
   "mimetype": "text/x-python",
   "name": "python",
   "nbconvert_exporter": "python",
   "pygments_lexer": "ipython2",
   "version": "2.7.6"
  }
 },
 "nbformat": 4,
 "nbformat_minor": 5
}
