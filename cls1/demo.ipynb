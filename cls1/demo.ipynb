{
 "cells": [
  {
   "metadata": {},
   "cell_type": "markdown",
   "source": "# Sample 1",
   "id": "4a718c1dc9d9516b"
  },
  {
   "metadata": {
    "ExecuteTime": {
     "end_time": "2024-08-13T12:42:39.404751Z",
     "start_time": "2024-08-13T12:42:36.062434Z"
    }
   },
   "cell_type": "code",
   "source": [
    "name = input(\"Enter your name\")\n",
    "print(\"Hello World\", name)"
   ],
   "id": "initial_id",
   "outputs": [
    {
     "name": "stdout",
     "output_type": "stream",
     "text": [
      "Hello World Sijin SUN\n"
     ]
    }
   ],
   "execution_count": 1
  },
  {
   "metadata": {},
   "cell_type": "markdown",
   "source": "# Sample 2",
   "id": "2ee7ce40942b7b5a"
  },
  {
   "metadata": {
    "ExecuteTime": {
     "end_time": "2024-08-13T12:42:41.578259Z",
     "start_time": "2024-08-13T12:42:39.412830Z"
    }
   },
   "cell_type": "code",
   "source": [
    "length = int(input(\"Enter the length\"))\n",
    "breadth = int(input(\"Enter the breadth\"))\n",
    "area = length * breadth\n",
    "print(\"The area of th a rectangle with length {} and breadth {} is {}\".format(length,breadth,area))"
   ],
   "id": "96c80af773e543bc",
   "outputs": [
    {
     "name": "stdout",
     "output_type": "stream",
     "text": [
      "The area of th a rectangle with length 5 and breadth 6 is 30\n"
     ]
    }
   ],
   "execution_count": 2
  },
  {
   "metadata": {},
   "cell_type": "markdown",
   "source": "# Function",
   "id": "c1afacbd742635cf"
  },
  {
   "metadata": {
    "ExecuteTime": {
     "end_time": "2024-08-13T12:42:41.610378Z",
     "start_time": "2024-08-13T12:42:41.584579Z"
    }
   },
   "cell_type": "code",
   "source": [
    "def computeAreaOfRectangle(length,breadth):\n",
    "    return length * breadth\n",
    "\n",
    "def computeAreaOfCircle(radius):\n",
    "    return radius*radius*3.142"
   ],
   "id": "5488a4490474d0c0",
   "outputs": [],
   "execution_count": 3
  },
  {
   "metadata": {},
   "cell_type": "markdown",
   "source": "# OOP",
   "id": "a6256f21762cb0f4"
  },
  {
   "metadata": {
    "ExecuteTime": {
     "end_time": "2024-08-13T12:42:41.641868Z",
     "start_time": "2024-08-13T12:42:41.615381Z"
    }
   },
   "cell_type": "code",
   "source": [
    "class Rectangle:\n",
    "    def __init__(self,length,breadth):\n",
    "        self.length = length\n",
    "        self.breadth = breadth\n",
    "        \n",
    "    def computeAreaOfRectangle(self):\n",
    "        return self.length * self.breadth"
   ],
   "id": "89e300d4f59e721a",
   "outputs": [],
   "execution_count": 4
  }
 ],
 "metadata": {
  "kernelspec": {
   "display_name": "Python 3",
   "language": "python",
   "name": "python3"
  },
  "language_info": {
   "codemirror_mode": {
    "name": "ipython",
    "version": 2
   },
   "file_extension": ".py",
   "mimetype": "text/x-python",
   "name": "python",
   "nbconvert_exporter": "python",
   "pygments_lexer": "ipython2",
   "version": "2.7.6"
  }
 },
 "nbformat": 4,
 "nbformat_minor": 5
}
