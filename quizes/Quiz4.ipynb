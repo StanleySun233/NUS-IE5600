{
 "cells": [
  {
   "metadata": {},
   "cell_type": "markdown",
   "source": [
    "# Question1: The following code fragment would allow a user to exit the program by entering an uppercase 'Y':\n",
    "\n",
    "```python\n",
    "response = 'N'\n",
    "while response != 'Y':    \n",
    "    response = input('Do you want to exit (enter Y to exit)? ')\n",
    "print ('Good Bye...')\n",
    "```\n",
    "How can the while expression be re-written to allow the user to exit the program by entering either an uppercase 'Y' or lowercase 'y'?\n",
    "\n",
    "- [ ] response == 'Y' and response == 'y' \n",
    "- [ ] response == 'Y' or response == 'y' \n",
    "- [x] response != 'Y' and response != 'y' \n",
    "- [ ] response != 'y' \n",
    "- [ ] response != 'Y' or response != 'y' "
   ],
   "id": "11f7f950f3f0add5"
  },
  {
   "metadata": {},
   "cell_type": "markdown",
   "source": "",
   "id": "42fd6548cd8a1a70"
  },
  {
   "metadata": {},
   "cell_type": "code",
   "outputs": [],
   "execution_count": null,
   "source": [
    "response = 'N'\n",
    "# while response != 'Y':\n",
    "while response != 'Y' and response != 'y' :\n",
    "    response = input('Do you want to exit (enter Y to exit)? ')\n",
    "print ('Good Bye...')"
   ],
   "id": "f1417d70d9ee47aa"
  },
  {
   "metadata": {},
   "cell_type": "markdown",
   "source": [
    "Question 2: How many integer numbers would be printed out by the following Python code fragment?\n",
    "\n",
    "```python\n",
    "for i in range(5, 20, 3):\n",
    "    print(i)\n",
    "```\n",
    "- [ ] 7 \n",
    "- [ ] 6 \n",
    "- [x] 5 \n",
    "- [ ] 4 \n",
    "- [ ] 8 "
   ],
   "id": "e5d35ba2d1a4c7c2"
  },
  {
   "metadata": {
    "ExecuteTime": {
     "end_time": "2024-09-17T12:55:04.815810Z",
     "start_time": "2024-09-17T12:55:04.793363Z"
    }
   },
   "cell_type": "code",
   "source": [
    "for i in range(5, 20, 3):\n",
    "    print(i)"
   ],
   "id": "76e59a345e8acfab",
   "outputs": [
    {
     "name": "stdout",
     "output_type": "stream",
     "text": [
      "5\n",
      "8\n",
      "11\n",
      "14\n",
      "17\n"
     ]
    }
   ],
   "execution_count": 1
  },
  {
   "metadata": {},
   "cell_type": "markdown",
   "source": [
    "Question3: What would be printed out by the following Python code fragment?\n",
    "\n",
    "```python\n",
    "i = 0\n",
    "acc = 0\n",
    "while i < 3:\n",
    "    for j in range(1, 3):\n",
    "       acc += i * j\n",
    "    i += 1  \n",
    "print(acc)\n",
    "```\n",
    "- [ ] 6 \n",
    "- [ ] 18\n",
    "- [x] 9 \n",
    "- [ ] 3 \n",
    "- [ ] 0 "
   ],
   "id": "d5779b0c24f77b13"
  },
  {
   "metadata": {
    "ExecuteTime": {
     "end_time": "2024-09-17T12:55:23.139489Z",
     "start_time": "2024-09-17T12:55:23.131349Z"
    }
   },
   "cell_type": "code",
   "source": [
    "i = 0\n",
    "acc = 0\n",
    "while i < 3:\n",
    "    for j in range(1, 3):\n",
    "       acc += i * j\n",
    "    i += 1\n",
    "print(acc)"
   ],
   "id": "fc380c9852ee75a2",
   "outputs": [
    {
     "name": "stdout",
     "output_type": "stream",
     "text": [
      "9\n"
     ]
    }
   ],
   "execution_count": 3
  },
  {
   "metadata": {},
   "cell_type": "markdown",
   "source": [
    "# Question4: What would be printed out by the following Python code fragment?\n",
    "\n",
    "```python\n",
    "result = 0\n",
    "for i in range(5): \n",
    "    if i >= 3:        \n",
    "        continue\n",
    "    for j in range(5):                \n",
    "        if j <= 3:            \n",
    "            break  \n",
    "        result += (i * j)            \n",
    "print(result)\n",
    "```\n",
    "\n",
    "- [x] 0\n",
    "- [ ] 100\n",
    "- [ ] 50\n",
    "- [ ] 75\n",
    "- [ ] 30"
   ],
   "id": "12fa4aba16df77cb"
  },
  {
   "metadata": {},
   "cell_type": "code",
   "outputs": [],
   "execution_count": null,
   "source": [
    "result = 0\n",
    "for i in range(5): \n",
    "    if i >= 3:        \n",
    "        continue\n",
    "    for j in range(5):                \n",
    "        if j <= 3:            \n",
    "            break  \n",
    "        result += (i * j)            \n",
    "print(result)"
   ],
   "id": "bedcc4086e75ceb7"
  }
 ],
 "metadata": {
  "kernelspec": {
   "display_name": "Python 3",
   "language": "python",
   "name": "python3"
  },
  "language_info": {
   "codemirror_mode": {
    "name": "ipython",
    "version": 2
   },
   "file_extension": ".py",
   "mimetype": "text/x-python",
   "name": "python",
   "nbconvert_exporter": "python",
   "pygments_lexer": "ipython2",
   "version": "2.7.6"
  }
 },
 "nbformat": 4,
 "nbformat_minor": 5
}
