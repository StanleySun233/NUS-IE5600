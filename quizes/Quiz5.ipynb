{
 "cells": [
  {
   "metadata": {},
   "cell_type": "markdown",
   "source": [
    "# Question1: What will be the output for the following codes?\n",
    "```python\n",
    "mylist = ['apple', 'banana', 'cherry']\n",
    "mylist[0] = 'kiwi'\n",
    "print(mylist[1])\n",
    "```\n",
    "- [x] banana\n",
    "- [ ] cherry\n",
    "- [ ] kiwi\n",
    "- [ ] apple"
   ],
   "id": "135625dd272fea24"
  },
  {
   "cell_type": "code",
   "id": "initial_id",
   "metadata": {
    "collapsed": true,
    "ExecuteTime": {
     "end_time": "2024-09-12T15:00:10.885873Z",
     "start_time": "2024-09-12T15:00:10.864868Z"
    }
   },
   "source": [
    "mylist = ['apple', 'banana', 'cherry']\n",
    "mylist[0] = 'kiwi'\n",
    "print(mylist[1])"
   ],
   "outputs": [
    {
     "name": "stdout",
     "output_type": "stream",
     "text": [
      "banana\n"
     ]
    }
   ],
   "execution_count": 1
  },
  {
   "metadata": {},
   "cell_type": "markdown",
   "source": [
    "# Question2: Given the following data structure, which option will return the output Tobias?\n",
    "```python\n",
    "family = {\"child1\": {\"name\": \"Emil\", \"year\": 2004},\n",
    "          \"child2\": {\"name\": \"Tobias\", \"year\": 2007},\n",
    "          \"child3\": {\"name\": \"Linus\", \"year\": 2011}}\n",
    "```\n",
    "\n",
    "- [ ] family[\"child2\"][\"Tobias\"]\n",
    "\n",
    "- [x] family[\"child2\"][\"name\"]\n",
    "\n",
    "- [ ] family[1][0]\n",
    "\n",
    "- [ ] family[\"child2\", \"name\"]"
   ],
   "id": "f14d67819f4e079c"
  },
  {
   "metadata": {
    "ExecuteTime": {
     "end_time": "2024-09-12T15:00:03.904358Z",
     "start_time": "2024-09-12T15:00:03.885359Z"
    }
   },
   "cell_type": "code",
   "source": [
    "family = {\"child1\": {\"name\": \"Emil\", \"year\": 2004},\n",
    "          \"child2\": {\"name\": \"Tobias\", \"year\": 2007},\n",
    "          \"child3\": {\"name\": \"Linus\", \"year\": 2011}}\n",
    "\n",
    "try:\n",
    "    print(\"\"\"family[\"child2\"][\"Tobias\"]\"\"\", family[\"child2\"][\"Tobias\"])\n",
    "except Exception as e:\n",
    "    print(\"\"\"family[\"child2\"][\"Tobias\"]\"\"\", \"ERROR\")\n",
    "    \n",
    "print(\"\"\"family[\"child2\"][\"name\"]\"\"\", family[\"child2\"][\"name\"])\n",
    "\n",
    "try:\n",
    "    print(\"\"\"family[1][0]\"\"\",family[1][0])\n",
    "except Exception as e:\n",
    "    print(\"\"\"family[1][0]\"\"\", \"ERROR\")\n",
    "    \n",
    "try:\n",
    "    print(\"\"\"family[\"child2\", \"name\"]\"\"\", family[\"child2\", \"name\"])\n",
    "except Exception as e:\n",
    "    print(\"\"\"family[\"child2\", \"name\"]\"\"\", \"ERROR\")"
   ],
   "id": "caa66160aa69c12a",
   "outputs": [
    {
     "name": "stdout",
     "output_type": "stream",
     "text": [
      "family[\"child2\"][\"Tobias\"] ERROR\n",
      "family[\"child2\"][\"name\"] Tobias\n",
      "family[1][0] ERROR\n",
      "family[\"child2\", \"name\"] ERROR\n"
     ]
    }
   ],
   "execution_count": 20
  },
  {
   "metadata": {},
   "cell_type": "markdown",
   "source": [
    "Question3: Which one of the following options is NOT a valid Python data structure?\n",
    "\n",
    "\n",
    "- [x] All of the above options are valid Python data structures.\n",
    "\n",
    "- [ ] {0:'x', 1:'y', 2:'z'}\n",
    "\n",
    "- [ ] {'e', 'f', 'g'}\n",
    "\n",
    "- [ ] ['i', 'j', 8]\n",
    "\n",
    "- [ ] {'a':'x', 'b':'y', 'c':'z'}"
   ],
   "id": "4411e7eeaa82d9f2"
  },
  {
   "metadata": {
    "ExecuteTime": {
     "end_time": "2024-09-12T15:00:03.949881Z",
     "start_time": "2024-09-12T15:00:03.936881Z"
    }
   },
   "cell_type": "code",
   "source": [
    "try:\n",
    "    print({0:'x', 1:'y', 2:'z'})\n",
    "    print({'e', 'f', 'g'})\n",
    "    print(['i', 'j', 8])\n",
    "    print({'a':'x', 'b':'y', 'c':'z'})\n",
    "except:\n",
    "    print(\"Some error occurs.\")\n",
    "print(\"All are correct.\")"
   ],
   "id": "205ae6e7ccbba837",
   "outputs": [
    {
     "name": "stdout",
     "output_type": "stream",
     "text": [
      "{0: 'x', 1: 'y', 2: 'z'}\n",
      "{'g', 'e', 'f'}\n",
      "['i', 'j', 8]\n",
      "{'a': 'x', 'b': 'y', 'c': 'z'}\n",
      "All are correct.\n"
     ]
    }
   ],
   "execution_count": 21
  },
  {
   "metadata": {},
   "cell_type": "markdown",
   "source": "",
   "id": "11be776eace989b5"
  },
  {
   "metadata": {},
   "cell_type": "markdown",
   "source": [
    "# Question4: I have defined two data structures A, B. And which of the following code will return {1, 3, 5, 6, 8}?\n",
    "Given that:\n",
    "\n",
    "A = {1, 3, 4, 5, 6, 8}\n",
    "\n",
    "B = {2, 4, 5}\n",
    "\n",
    "C = {2, 4, 6, 8}\n",
    "\n",
    "Selection:\n",
    "\n",
    "- [x] A - (B & C)\n",
    "- [ ] A ^ C | B\n",
    "- [ ] A ^ C\n",
    "- [ ] B & C\n",
    "- [ ] A | B"
   ],
   "id": "3d0b418238f1c274"
  },
  {
   "metadata": {
    "ExecuteTime": {
     "end_time": "2024-09-12T15:00:04.028909Z",
     "start_time": "2024-09-12T15:00:04.008907Z"
    }
   },
   "cell_type": "code",
   "source": [
    "A = {1, 3, 4, 5, 6, 8}\n",
    "B = {2, 4, 5}\n",
    "C = {2, 4, 6, 8}\n",
    "print(\"A - (B & C)\",A - (B & C))\n",
    "print(\"A ^ C | B\",A ^ C | B)\n",
    "print(\"A ^ C\",A ^ C)\n",
    "print(\"B & C\",B & C)\n",
    "print(\"A | B\",A | B)"
   ],
   "id": "d526f46bf7725288",
   "outputs": [
    {
     "name": "stdout",
     "output_type": "stream",
     "text": [
      "A - (B & C) {1, 3, 5, 6, 8}\n",
      "A ^ C | B {1, 2, 3, 4, 5}\n",
      "A ^ C {1, 2, 3, 5}\n",
      "B & C {2, 4}\n",
      "A | B {1, 2, 3, 4, 5, 6, 8}\n"
     ]
    }
   ],
   "execution_count": 22
  },
  {
   "metadata": {},
   "cell_type": "markdown",
   "source": [
    "# Question5: Which one of the following options shows the correct length of the respective data structure?\n",
    "- [ ] [1,1,2,2,3,3] => Length is 3\n",
    "\n",
    "- [ ] {0:1,0:1,1:2,1:2,2:3,2:3} => Length is 6\n",
    "\n",
    "- [ ] {0:1,0:2,1:3,1:4,2:5,2:6} => Length is 6\n",
    "\n",
    "- [ ] {1,1,2,2,3,3} => Length is 6\n",
    "\n",
    "- [x] (1,1,2,2,3,3) => Length is \n"
   ],
   "id": "391c8b9bfc32e581"
  },
  {
   "metadata": {
    "ExecuteTime": {
     "end_time": "2024-09-12T15:00:04.105927Z",
     "start_time": "2024-09-12T15:00:04.095925Z"
    }
   },
   "cell_type": "code",
   "source": [
    "print(\"[1,1,2,2,3,3]\",len([1,1,2,2,3,3]))\n",
    "print(\"{0:1,0:1,1:2,1:2,2:3,2:3}\",len({0:1,0:1,1:2,1:2,2:3,2:3}))\n",
    "print(\"{0:1,0:2,1:3,1:4,2:5,2:6}\",len({0:1,0:2,1:3,1:4,2:5,2:6}))\n",
    "print(\"{1,1,2,2,3,3}\",len({1,1,2,2,3,3}))\n",
    "print(\"(1,1,2,2,3,3)\",len((1,1,2,2,3,3)))"
   ],
   "id": "f91c70be8b6d9e8c",
   "outputs": [
    {
     "name": "stdout",
     "output_type": "stream",
     "text": [
      "[1,1,2,2,3,3] 6\n",
      "{0:1,0:1,1:2,1:2,2:3,2:3} 3\n",
      "{0:1,0:2,1:3,1:4,2:5,2:6} 3\n",
      "{1,1,2,2,3,3} 3\n",
      "(1,1,2,2,3,3) 6\n"
     ]
    }
   ],
   "execution_count": 23
  },
  {
   "metadata": {},
   "cell_type": "markdown",
   "source": [
    "# Question6: Which one of the following options is NOT a valid two dimensional data structure in Python?\n",
    "\n",
    "\n",
    "- [ ] {'a':{'a':1, 'b':2, 'c':3}, 'b':{'a':4, 'b':5, 'c':6}, 'c':{'a':7, 'b':8, 'c':9}}\n",
    "\n",
    "- [ ] [(1, 2, 3), (4, 5, 6), (7, 8, 9)]\n",
    "\n",
    "- [ ] [[1, 2, 3], [4, 5, 6], [7, 8, 9]]\n",
    "\n",
    "- [x] {{1, 2, 3}, {4, 5, 6}, {7, 8, 9}}\n",
    "\n",
    "- [ ] {(1, 2, 3), (4, 5, 6), (7, 8, 9)}"
   ],
   "id": "608e089d57142a5d"
  },
  {
   "metadata": {
    "ExecuteTime": {
     "end_time": "2024-09-12T15:00:04.185019Z",
     "start_time": "2024-09-12T15:00:04.144945Z"
    }
   },
   "cell_type": "code",
   "source": [
    "s1 = {'a':{'a':1, 'b':2, 'c':3}, 'b':{'a':4, 'b':5, 'c':6}, 'c':{'a':7, 'b':8, 'c':9}}\n",
    "s2 = [(1, 2, 3), (4, 5, 6), (7, 8, 9)]\n",
    "s3 = [[1, 2, 3], [4, 5, 6], [7, 8, 9]]\n",
    "s4 = {{1, 2, 3}, {4, 5, 6}, {7, 8, 9}}\n",
    "s5 = {(1, 2, 3), (4, 5, 6), (7, 8, 9)}\n",
    "# Note: the Traceback TypeError shows that when s4 execute, it is wrong."
   ],
   "id": "b8ace7bf284eaf8a",
   "outputs": [
    {
     "ename": "TypeError",
     "evalue": "unhashable type: 'set'",
     "output_type": "error",
     "traceback": [
      "\u001B[1;31m---------------------------------------------------------------------------\u001B[0m",
      "\u001B[1;31mTypeError\u001B[0m                                 Traceback (most recent call last)",
      "Cell \u001B[1;32mIn[24], line 4\u001B[0m\n\u001B[0;32m      2\u001B[0m s2 \u001B[38;5;241m=\u001B[39m [(\u001B[38;5;241m1\u001B[39m, \u001B[38;5;241m2\u001B[39m, \u001B[38;5;241m3\u001B[39m), (\u001B[38;5;241m4\u001B[39m, \u001B[38;5;241m5\u001B[39m, \u001B[38;5;241m6\u001B[39m), (\u001B[38;5;241m7\u001B[39m, \u001B[38;5;241m8\u001B[39m, \u001B[38;5;241m9\u001B[39m)]\n\u001B[0;32m      3\u001B[0m s3 \u001B[38;5;241m=\u001B[39m [[\u001B[38;5;241m1\u001B[39m, \u001B[38;5;241m2\u001B[39m, \u001B[38;5;241m3\u001B[39m], [\u001B[38;5;241m4\u001B[39m, \u001B[38;5;241m5\u001B[39m, \u001B[38;5;241m6\u001B[39m], [\u001B[38;5;241m7\u001B[39m, \u001B[38;5;241m8\u001B[39m, \u001B[38;5;241m9\u001B[39m]]\n\u001B[1;32m----> 4\u001B[0m s4 \u001B[38;5;241m=\u001B[39m {{\u001B[38;5;241m1\u001B[39m, \u001B[38;5;241m2\u001B[39m, \u001B[38;5;241m3\u001B[39m}, {\u001B[38;5;241m4\u001B[39m, \u001B[38;5;241m5\u001B[39m, \u001B[38;5;241m6\u001B[39m}, {\u001B[38;5;241m7\u001B[39m, \u001B[38;5;241m8\u001B[39m, \u001B[38;5;241m9\u001B[39m}}\n\u001B[0;32m      5\u001B[0m s5 \u001B[38;5;241m=\u001B[39m {(\u001B[38;5;241m1\u001B[39m, \u001B[38;5;241m2\u001B[39m, \u001B[38;5;241m3\u001B[39m), (\u001B[38;5;241m4\u001B[39m, \u001B[38;5;241m5\u001B[39m, \u001B[38;5;241m6\u001B[39m), (\u001B[38;5;241m7\u001B[39m, \u001B[38;5;241m8\u001B[39m, \u001B[38;5;241m9\u001B[39m)}\n\u001B[0;32m      6\u001B[0m \u001B[38;5;66;03m# Note: the Traceback TypeError shows that when s4 execute, it is wrong.\u001B[39;00m\n",
      "\u001B[1;31mTypeError\u001B[0m: unhashable type: 'set'"
     ]
    }
   ],
   "execution_count": 24
  },
  {
   "metadata": {},
   "cell_type": "code",
   "outputs": [],
   "execution_count": null,
   "source": "",
   "id": "fa81114bb9170c86"
  }
 ],
 "metadata": {
  "kernelspec": {
   "display_name": "Python 3",
   "language": "python",
   "name": "python3"
  },
  "language_info": {
   "codemirror_mode": {
    "name": "ipython",
    "version": 2
   },
   "file_extension": ".py",
   "mimetype": "text/x-python",
   "name": "python",
   "nbconvert_exporter": "python",
   "pygments_lexer": "ipython2",
   "version": "2.7.6"
  }
 },
 "nbformat": 4,
 "nbformat_minor": 5
}
